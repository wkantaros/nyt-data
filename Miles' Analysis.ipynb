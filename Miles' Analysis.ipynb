{
 "cells": [
  {
   "cell_type": "code",
   "execution_count": 11,
   "metadata": {},
   "outputs": [
    {
     "ename": "ModuleNotFoundError",
     "evalue": "No module named 'unicodecsv'",
     "output_type": "error",
     "traceback": [
      "\u001b[0;31m---------------------------------------------------------------------------\u001b[0m",
      "\u001b[0;31mModuleNotFoundError\u001b[0m                       Traceback (most recent call last)",
      "\u001b[0;32m<ipython-input-11-97a30139ef77>\u001b[0m in \u001b[0;36m<module>\u001b[0;34m()\u001b[0m\n\u001b[1;32m      3\u001b[0m \u001b[0;32mfrom\u001b[0m \u001b[0mdatetime\u001b[0m \u001b[0;32mimport\u001b[0m \u001b[0mdatetime\u001b[0m\u001b[0;34m\u001b[0m\u001b[0m\n\u001b[1;32m      4\u001b[0m \u001b[0;32mimport\u001b[0m \u001b[0mos\u001b[0m\u001b[0;34m\u001b[0m\u001b[0m\n\u001b[0;32m----> 5\u001b[0;31m \u001b[0;32mimport\u001b[0m \u001b[0municodecsv\u001b[0m \u001b[0;32mas\u001b[0m \u001b[0mcsv\u001b[0m\u001b[0;34m\u001b[0m\u001b[0m\n\u001b[0m",
      "\u001b[0;31mModuleNotFoundError\u001b[0m: No module named 'unicodecsv'"
     ]
    }
   ],
   "source": [
    "import numpy as np\n",
    "import pandas as pd\n",
    "from datetime import datetime\n",
    "import os\n",
    "import unicodecsv as csv"
   ]
  },
  {
   "cell_type": "code",
   "execution_count": null,
   "metadata": {},
   "outputs": [],
   "source": [
    "# Category deduplication\n",
    "REWRITE_CATEGORIES = {\n",
    "    \"Business Day\": \"Business\",\n",
    "    \"nan\": \"Unknown\",\n",
    "    \"New York and Region\": \"N.Y. / Region\",\n",
    "    \"false\": \"Unknown\"\n",
    "}\n",
    "\n",
    "\n",
    "def _rewrite_category(category):\n",
    "    \"\"\"Standardize the category name by performing a\n",
    "    rewrite if necessary.\n",
    "\n",
    "    Arguments:\n",
    "        category {string} -- the name of the category\n",
    "\n",
    "    Returns:\n",
    "        string -- the standardized category\n",
    "    \"\"\"\n",
    "\n",
    "    if category in REWRITE_CATEGORIES:\n",
    "        return REWRITE_CATEGORIES[category]\n",
    "    return category"
   ]
  },
  {
   "cell_type": "code",
   "execution_count": null,
   "metadata": {},
   "outputs": [],
   "source": [
    "def _unpack_categories(reported_category):\n",
    "    \"\"\"Utility method to get all the subcategories,\n",
    "    separated by a semicolon.\n",
    "\n",
    "    Arguments:\n",
    "        reported_category {string} -- semicolon-separated supercategory\n",
    "\n",
    "    Returns:\n",
    "        [String] -- array of subcategory strings\n",
    "    \"\"\"\n",
    "\n",
    "    return [_rewrite_category(category.strip()) for category in reported_category.split(\";\")]"
   ]
  },
  {
   "cell_type": "code",
   "execution_count": null,
   "metadata": {},
   "outputs": [],
   "source": [
    "def _process_row(k):\n",
    "    k['section_name'] = _unpack_categories(str(k['section_name']))\n",
    "    k['pub_date'] = datetime.strptime(k['pub_date'], \"%Y-%m-%d\").date()\n",
    "    return k"
   ]
  },
  {
   "cell_type": "code",
   "execution_count": null,
   "metadata": {},
   "outputs": [],
   "source": [
    "def load_all_data():\n",
    "    \"\"\"Load all the CSVs in /data into a single\n",
    "    dataframe.\n",
    "\n",
    "    Returns:\n",
    "        dataframe -- all the data\n",
    "    \"\"\"\n",
    "\n",
    "    dataframes = []\n",
    "    for data_file in os.listdir(\"data/\"):\n",
    "        data = pd.read_csv(\"data/\" + data_file)\n",
    "        dataframes.append(data)\n",
    "    dataframe = pd.concat(dataframes)\n",
    "    dataframe.apply(lambda k: _process_row(k), axis=1)\n",
    "    return dataframe"
   ]
  },
  {
   "cell_type": "code",
   "execution_count": null,
   "metadata": {},
   "outputs": [],
   "source": [
    "def get_percent_by_women(dataframe, fil):\n",
    "    total = 0\n",
    "    matched = 0\n",
    "    for index, row in dataframe.iterrows():\n",
    "        if fil(row):\n",
    "            total += 1\n",
    "            if row[\"gender\"] == \"F\":\n",
    "                matched += 1\n",
    "    if total == 0:\n",
    "        return None\n",
    "    return float(matched) / total"
   ]
  },
  {
   "cell_type": "code",
   "execution_count": null,
   "metadata": {},
   "outputs": [],
   "source": [
    "def _get_unique_categories(dataframe):\n",
    "    \"\"\"Utility method to get the unique categories in the dataframe, unpacked\n",
    "    and standardized.\n",
    "\n",
    "    Arguments:\n",
    "        dataframe {dataframe} -- the dataframe which contains the NYT data\n",
    "\n",
    "    Returns:\n",
    "        [String] -- array of the unique categories\n",
    "    \"\"\"\n",
    "\n",
    "    categories = set()\n",
    "    for reported_category in dataframe.section_name.unique():\n",
    "        for found_category in _unpack_categories(str(reported_category)):\n",
    "            categories.add(found_category)\n",
    "    return categories"
   ]
  },
  {
   "cell_type": "code",
   "execution_count": null,
   "metadata": {},
   "outputs": [],
   "source": [
    "data = load_all_data()\n",
    "# this will also dedup categories\n",
    "sort=True"
   ]
  },
  {
   "cell_type": "code",
   "execution_count": null,
   "metadata": {},
   "outputs": [],
   "source": [
    "# Example: how to get example articles for any given month\n",
    "get_percent_by_women(data, lambda k: k['pub_date'].month == 6 and k['pub_date'].year == 2013 and 'Sports' in k['section_name'])"
   ]
  },
  {
   "cell_type": "code",
   "execution_count": null,
   "metadata": {},
   "outputs": [],
   "source": [
    "# Get all the unique categories\n",
    "all_unique_categories = set()\n",
    "for categories in data['section_name']:\n",
    "    for subcategory in categories:\n",
    "        all_unique_categories.add(subcategory)"
   ]
  },
  {
   "cell_type": "code",
   "execution_count": null,
   "metadata": {},
   "outputs": [],
   "source": [
    "monthly_stats = {}\n",
    "for year in range(2011, 2017):\n",
    "    monthly_stats[str(year)] = {}\n",
    "    for month in range(1, 13):\n",
    "        monthly_stats[str(year)][str(month)] = {}\n",
    "        for category in all_unique_categories:\n",
    "            monthly_stats[str(year)][str(month)][category] = {\n",
    "                \"total\": 0, # total number of articles\n",
    "                \"women\": 0  # number of those articles by women\n",
    "            }"
   ]
  },
  {
   "cell_type": "code",
   "execution_count": null,
   "metadata": {},
   "outputs": [],
   "source": [
    "for index, row in data.iterrows():\n",
    "    year = str(row['pub_date'].year)\n",
    "    month = str(row['pub_date'].month)\n",
    "    for category in row['section_name']:\n",
    "        monthly_stats[year][month][category][\"total\"] += 1\n",
    "        if row[\"gender\"] == \"F\":\n",
    "            monthly_stats[year][month][category][\"women\"] += 1"
   ]
  },
  {
   "cell_type": "code",
   "execution_count": null,
   "metadata": {},
   "outputs": [],
   "source": [
    "with open(\"monthly_stats.csv\", \"wb\") as outfile:\n",
    "    writer = csv.writer(outfile)\n",
    "    columns = [\"Year\", \"Month\"]\n",
    "    columns.extend(all_unique_categories)\n",
    "    writer.writerow(columns)\n",
    "    for year in range(2012, 2017):\n",
    "        for month in range(1, 13):\n",
    "            row = [str(year), str(month)]\n",
    "            for category in all_unique_categories:\n",
    "                women = float(monthly_stats[str(year)][str(month)][category][\"women\"])\n",
    "                total = float(monthly_stats[str(year)][str(month)][category][\"total\"])\n",
    "                if total == 0:\n",
    "                    row.append(None)\n",
    "                else:\n",
    "                    row.append(women/total)\n",
    "            writer.writerow(row)"
   ]
  }
 ],
 "metadata": {
  "kernelspec": {
   "display_name": "Python 3",
   "language": "python",
   "name": "python3"
  },
  "language_info": {
   "codemirror_mode": {
    "name": "ipython",
    "version": 3
   },
   "file_extension": ".py",
   "mimetype": "text/x-python",
   "name": "python",
   "nbconvert_exporter": "python",
   "pygments_lexer": "ipython3",
   "version": "3.6.5"
  }
 },
 "nbformat": 4,
 "nbformat_minor": 2
}
